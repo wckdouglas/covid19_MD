{
 "cells": [
  {
   "cell_type": "code",
   "execution_count": 33,
   "metadata": {},
   "outputs": [
    {
     "name": "stdout",
     "output_type": "stream",
     "text": [
      "The autoreload extension is already loaded. To reload it, use:\n",
      "  %reload_ext autoreload\n"
     ]
    }
   ],
   "source": [
    "%matplotlib inline\n",
    "%load_ext autoreload\n",
    "%autoreload 2\n",
    "\n",
    "import pandas as pd\n",
    "import glob\n",
    "from src.utils import Data, markdown_html\n",
    "import matplotlib.pyplot as plt\n",
    "from bokeh.io import show, save, output_file\n",
    "from bokeh.models import (CDSView, ColorBar, ColumnDataSource,\n",
    "                          GeoJSONDataSource, HoverTool,\n",
    "                          LinearColorMapper, Slider, BasicTicker)\n",
    "from bokeh.layouts import column, row, widgetbox\n",
    "from bokeh.palettes import brewer\n",
    "from bokeh.palettes import Inferno256\n",
    "from bokeh.plotting import figure"
   ]
  },
  {
   "cell_type": "code",
   "execution_count": 34,
   "metadata": {},
   "outputs": [
    {
     "name": "stderr",
     "output_type": "stream",
     "text": [
      "INFO:Data collector:Loaded geo shape\n",
      "INFO:Data collector:Retrieved map info\n",
      "INFO:Data collector:Loaded daily COVID cases\n",
      "/Users/wckdouglas/codes/covid/src/utils.py:61: UserWarning: No parser was explicitly specified, so I'm using the best available HTML parser for this system (\"lxml\"). This usually isn't a problem, but if you run this code on another system, or in a different virtual environment, it may use a different parser and behave differently.\n",
      "\n",
      "The code that caused this warning is on line 61 of the file /Users/wckdouglas/codes/covid/src/utils.py. To get rid of this warning, pass the additional argument 'features=\"lxml\"' to the BeautifulSoup constructor.\n",
      "\n",
      "  soup = BeautifulSoup(http.content)\n",
      "INFO:Data collector:Retrieved populations\n"
     ]
    }
   ],
   "source": [
    "maryland = Data(state='MD')"
   ]
  },
  {
   "cell_type": "code",
   "execution_count": 35,
   "metadata": {},
   "outputs": [
    {
     "data": {
      "text/html": [
       "<div>\n",
       "<style scoped>\n",
       "    .dataframe tbody tr th:only-of-type {\n",
       "        vertical-align: middle;\n",
       "    }\n",
       "\n",
       "    .dataframe tbody tr th {\n",
       "        vertical-align: top;\n",
       "    }\n",
       "\n",
       "    .dataframe thead th {\n",
       "        text-align: right;\n",
       "    }\n",
       "</style>\n",
       "<table border=\"1\" class=\"dataframe\">\n",
       "  <thead>\n",
       "    <tr style=\"text-align: right;\">\n",
       "      <th></th>\n",
       "      <th>Zip</th>\n",
       "      <th>City</th>\n",
       "      <th>State</th>\n",
       "      <th>Cases</th>\n",
       "      <th>Date</th>\n",
       "      <th>geometry</th>\n",
       "      <th>Population</th>\n",
       "      <th>per_population</th>\n",
       "    </tr>\n",
       "  </thead>\n",
       "  <tbody>\n",
       "    <tr>\n",
       "      <td>3</td>\n",
       "      <td>20910</td>\n",
       "      <td>Silver Spring</td>\n",
       "      <td>MD</td>\n",
       "      <td>110.0</td>\n",
       "      <td>2020-04-17</td>\n",
       "      <td>POLYGON ((-77.06795 39.02395, -77.06792 39.023...</td>\n",
       "      <td>42868</td>\n",
       "      <td>2.566017</td>\n",
       "    </tr>\n",
       "    <tr>\n",
       "      <td>8</td>\n",
       "      <td>20912</td>\n",
       "      <td>Takoma Park</td>\n",
       "      <td>MD</td>\n",
       "      <td>71.0</td>\n",
       "      <td>2020-04-17</td>\n",
       "      <td>POLYGON ((-77.02669 38.98656, -77.02644 38.986...</td>\n",
       "      <td>26239</td>\n",
       "      <td>2.705896</td>\n",
       "    </tr>\n",
       "    <tr>\n",
       "      <td>12</td>\n",
       "      <td>21001</td>\n",
       "      <td>Aberdeen</td>\n",
       "      <td>MD</td>\n",
       "      <td>8.0</td>\n",
       "      <td>2020-04-17</td>\n",
       "      <td>POLYGON ((-76.26030 39.52271, -76.26023 39.522...</td>\n",
       "      <td>24453</td>\n",
       "      <td>0.327158</td>\n",
       "    </tr>\n",
       "    <tr>\n",
       "      <td>14</td>\n",
       "      <td>21005</td>\n",
       "      <td>Aberdeen Proving Ground</td>\n",
       "      <td>MD</td>\n",
       "      <td>0.0</td>\n",
       "      <td>2020-04-17</td>\n",
       "      <td>POLYGON ((-76.17461 39.49090, -76.17075 39.494...</td>\n",
       "      <td>2723</td>\n",
       "      <td>0.000000</td>\n",
       "    </tr>\n",
       "    <tr>\n",
       "      <td>17</td>\n",
       "      <td>21009</td>\n",
       "      <td>Abingdon</td>\n",
       "      <td>MD</td>\n",
       "      <td>16.0</td>\n",
       "      <td>2020-04-17</td>\n",
       "      <td>POLYGON ((-76.34463 39.48586, -76.34453 39.485...</td>\n",
       "      <td>29997</td>\n",
       "      <td>0.533387</td>\n",
       "    </tr>\n",
       "  </tbody>\n",
       "</table>\n",
       "</div>"
      ],
      "text/plain": [
       "      Zip                     City State  Cases       Date  \\\n",
       "3   20910            Silver Spring    MD  110.0 2020-04-17   \n",
       "8   20912              Takoma Park    MD   71.0 2020-04-17   \n",
       "12  21001                 Aberdeen    MD    8.0 2020-04-17   \n",
       "14  21005  Aberdeen Proving Ground    MD    0.0 2020-04-17   \n",
       "17  21009                 Abingdon    MD   16.0 2020-04-17   \n",
       "\n",
       "                                             geometry Population  \\\n",
       "3   POLYGON ((-77.06795 39.02395, -77.06792 39.023...      42868   \n",
       "8   POLYGON ((-77.02669 38.98656, -77.02644 38.986...      26239   \n",
       "12  POLYGON ((-76.26030 39.52271, -76.26023 39.522...      24453   \n",
       "14  POLYGON ((-76.17461 39.49090, -76.17075 39.494...       2723   \n",
       "17  POLYGON ((-76.34463 39.48586, -76.34453 39.485...      29997   \n",
       "\n",
       "    per_population  \n",
       "3         2.566017  \n",
       "8         2.705896  \n",
       "12        0.327158  \n",
       "14        0.000000  \n",
       "17        0.533387  "
      ]
     },
     "execution_count": 35,
     "metadata": {},
     "output_type": "execute_result"
    }
   ],
   "source": [
    "data = maryland.geo \\\n",
    "    .merge(maryland.zip_map, on ='Zip', how = 'right') \\\n",
    "    .merge(maryland.zip_covid, on ='Zip', how ='left')\\\n",
    "    .merge(maryland.zip_population.assign(Zip = lambda d: d.Zip.astype(int)), on ='Zip')\\\n",
    "    .assign(Date = lambda d: d.Date.fillna(d.Date.max()))\\\n",
    "    .pipe(lambda d: d[d.Date==d.Date.max()])  \\\n",
    "    .filter(['Zip','City','State','Cases','Date','geometry', 'Population']) \\\n",
    "    .assign(Cases = lambda d: d.Cases.fillna(0)) \\\n",
    "    .pipe(lambda d: d[~pd.isnull(d.geometry)]) \\\n",
    "    .assign(per_population = lambda d: d.Cases / d.Population.astype(int) * 1000)\n",
    "data.head()"
   ]
  },
  {
   "cell_type": "code",
   "execution_count": 61,
   "metadata": {},
   "outputs": [],
   "source": [
    "geosource = GeoJSONDataSource(geojson = data.drop('Date', axis=1).to_json())\n",
    "color_mapper = LinearColorMapper(palette=Inferno256, \n",
    "                           low=data.per_population.min(), \n",
    "                           high=data.per_population.max())\n",
    "\n",
    "p1 = figure(title = 'COVID19 in Maryland\\n(Cases per 1,000 people)', \n",
    "           plot_height = 600,\n",
    "           plot_width = 950, \n",
    "           toolbar_location = 'below',\n",
    "           tools = \"pan, wheel_zoom, box_zoom, reset\")\n",
    "p1.xgrid.grid_line_color = None\n",
    "p1.ygrid.grid_line_color = None\n",
    "p1.axis.visible = False\n",
    "p1.title.text_font_size = '25pt'\n",
    "\n",
    "# Add patch renderer to figure.\n",
    "states = p1.patches('xs','ys', source = geosource,\n",
    "                   fill_color = {'field':'per_population',\n",
    "                                'transform':color_mapper},\n",
    "                   line_color = 'gray', \n",
    "                   line_width = 0.25, \n",
    "                   fill_alpha = 1)\n",
    "# Create hover tool\n",
    "p1.add_tools(HoverTool(tooltips = [('City','@City'),\n",
    "                                  ('Zip code','@Zip'),\n",
    "                                  ('Population','@Population'),\n",
    "                                  ('Cases', '@Cases'),\n",
    "                                  ('Cases/1k population', '@per_population')]))\n",
    "\n",
    "#color bar\n",
    "color_bar = ColorBar(color_mapper = color_mapper, \n",
    "                     label_standoff = 8,\n",
    "                     width = 500, height = 20,\n",
    "                     border_line_color = None,\n",
    "                     location = (0,0), \n",
    "                    orientation='horizontal')\n",
    "p1.add_layout(color_bar, 'below')"
   ]
  },
  {
   "cell_type": "code",
   "execution_count": 62,
   "metadata": {},
   "outputs": [
    {
     "data": {
      "text/html": [
       "<div>\n",
       "<style scoped>\n",
       "    .dataframe tbody tr th:only-of-type {\n",
       "        vertical-align: middle;\n",
       "    }\n",
       "\n",
       "    .dataframe tbody tr th {\n",
       "        vertical-align: top;\n",
       "    }\n",
       "\n",
       "    .dataframe thead th {\n",
       "        text-align: right;\n",
       "    }\n",
       "</style>\n",
       "<table border=\"1\" class=\"dataframe\">\n",
       "  <thead>\n",
       "    <tr style=\"text-align: right;\">\n",
       "      <th></th>\n",
       "      <th>City</th>\n",
       "      <th>Date</th>\n",
       "      <th>Cases</th>\n",
       "      <th>formatted_date</th>\n",
       "    </tr>\n",
       "  </thead>\n",
       "  <tbody>\n",
       "    <tr>\n",
       "      <td>0</td>\n",
       "      <td>Aberdeen</td>\n",
       "      <td>2020-04-15</td>\n",
       "      <td>8</td>\n",
       "      <td>2020-04-15</td>\n",
       "    </tr>\n",
       "    <tr>\n",
       "      <td>1</td>\n",
       "      <td>Aberdeen</td>\n",
       "      <td>2020-04-16</td>\n",
       "      <td>8</td>\n",
       "      <td>2020-04-16</td>\n",
       "    </tr>\n",
       "    <tr>\n",
       "      <td>2</td>\n",
       "      <td>Aberdeen</td>\n",
       "      <td>2020-04-17</td>\n",
       "      <td>8</td>\n",
       "      <td>2020-04-17</td>\n",
       "    </tr>\n",
       "    <tr>\n",
       "      <td>3</td>\n",
       "      <td>Abingdon</td>\n",
       "      <td>2020-04-13</td>\n",
       "      <td>14</td>\n",
       "      <td>2020-04-13</td>\n",
       "    </tr>\n",
       "    <tr>\n",
       "      <td>4</td>\n",
       "      <td>Abingdon</td>\n",
       "      <td>2020-04-14</td>\n",
       "      <td>14</td>\n",
       "      <td>2020-04-14</td>\n",
       "    </tr>\n",
       "  </tbody>\n",
       "</table>\n",
       "</div>"
      ],
      "text/plain": [
       "       City       Date  Cases formatted_date\n",
       "0  Aberdeen 2020-04-15      8     2020-04-15\n",
       "1  Aberdeen 2020-04-16      8     2020-04-16\n",
       "2  Aberdeen 2020-04-17      8     2020-04-17\n",
       "3  Abingdon 2020-04-13     14     2020-04-13\n",
       "4  Abingdon 2020-04-14     14     2020-04-14"
      ]
     },
     "execution_count": 62,
     "metadata": {},
     "output_type": "execute_result"
    }
   ],
   "source": [
    "ts_data = maryland.zip_covid\\\n",
    "    .merge(maryland.zip_map.filter(['Zip','City']), on = 'Zip')\\\n",
    "    .groupby(['Zip','City'], as_index=False)\\\n",
    "    .apply(lambda d: d.sort_values('Date')\\\n",
    "                   .assign(Cases = lambda d: d.Cases.fillna(method='ffill', axis=0)\\\n",
    "                   .fillna(0)))\\\n",
    "    .reset_index(drop=True) \\\n",
    "    .groupby(['City','Date'], as_index=False)\\\n",
    "    .agg({'Cases':'sum'})\\\n",
    "    .assign(formatted_date = lambda d: d.Date.astype(str)) \n",
    "ts_data.head()"
   ]
  },
  {
   "cell_type": "code",
   "execution_count": 63,
   "metadata": {},
   "outputs": [],
   "source": [
    "p2 = figure(x_axis_type=\"datetime\", \n",
    "            plot_width = 950, \n",
    "            x_axis_label='Date',\n",
    "            y_axis_label = 'Total Cases',\n",
    "            title = 'Daily cases by city',\n",
    "            tools='save,pan,box_zoom,reset,wheel_zoom')\n",
    "p2.xgrid.grid_line_color = None\n",
    "p2.ygrid.grid_line_color = None\n",
    "p2.title.text_font_size = '25pt'\n",
    "p2.xaxis.axis_label = 'Date'\n",
    "p2.yaxis.axis_label = 'Total Cases'\n",
    "p2.xaxis.axis_label_text_font_size = \"25pt\"\n",
    "p2.xaxis.major_label_text_font_size = \"25pt\"\n",
    "p2.yaxis.axis_label_text_font_size = \"25pt\"\n",
    "p2.yaxis.major_label_text_font_size = \"25pt\"\n",
    "\n",
    "\n",
    "for zip, zip_df in ts_data.groupby('City'):\n",
    "    source = ColumnDataSource(zip_df)\n",
    "    p2.line(x='Date',\n",
    "            y='Cases',\n",
    "            color = 'grey',\n",
    "            line_width=4,\n",
    "            line_alpha=0.8,\n",
    "            source=source)\n",
    "    #add tool tips\n",
    "    hover = HoverTool(tooltips =[\n",
    "                     ('Date','@formatted_date'),\n",
    "                     ('Cases','@Cases'),\n",
    "                     ('City', '@City')])\n",
    "p2.add_tools(hover)"
   ]
  },
  {
   "cell_type": "code",
   "execution_count": 64,
   "metadata": {},
   "outputs": [
    {
     "name": "stderr",
     "output_type": "stream",
     "text": [
      "INFO:bokeh.io.state:Session output file 'output.html' already exists, will be overwritten.\n"
     ]
    },
    {
     "data": {
      "text/plain": [
       "'/Users/wckdouglas/codes/covid/output.html'"
      ]
     },
     "execution_count": 64,
     "metadata": {},
     "output_type": "execute_result"
    }
   ],
   "source": [
    "p = column(p1, p2)\n",
    "output_file('output.html')\n",
    "save(p)"
   ]
  },
  {
   "cell_type": "code",
   "execution_count": 65,
   "metadata": {},
   "outputs": [
    {
     "name": "stderr",
     "output_type": "stream",
     "text": [
      "INFO:Data collector:Written 84 lines from 85 lines to COVID.html\n"
     ]
    }
   ],
   "source": [
    "markdown_html('output.html','COVID.html')"
   ]
  }
 ],
 "metadata": {
  "kernelspec": {
   "display_name": "Python 3",
   "language": "python",
   "name": "python3"
  },
  "language_info": {
   "codemirror_mode": {
    "name": "ipython",
    "version": 3
   },
   "file_extension": ".py",
   "mimetype": "text/x-python",
   "name": "python",
   "nbconvert_exporter": "python",
   "pygments_lexer": "ipython3",
   "version": "3.6.10"
  }
 },
 "nbformat": 4,
 "nbformat_minor": 4
}
