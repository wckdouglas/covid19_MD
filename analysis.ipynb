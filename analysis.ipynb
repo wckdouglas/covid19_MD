{
 "cells": [
  {
   "cell_type": "code",
   "execution_count": 1,
   "metadata": {},
   "outputs": [],
   "source": [
    "%matplotlib inline\n",
    "%load_ext autoreload\n",
    "%autoreload 2\n",
    "\n",
    "import pandas as pd\n",
    "import glob\n",
    "from src.utils import Data, markdown_html\n",
    "import matplotlib.pyplot as plt\n",
    "from bokeh.io import show\n",
    "from bokeh.models import (CDSView, ColorBar, ColumnDataSource,\n",
    "                          GeoJSONDataSource, HoverTool,\n",
    "                          LinearColorMapper, Slider, BasicTicker)\n",
    "from bokeh.layouts import column, row, widgetbox\n",
    "from bokeh.palettes import brewer\n",
    "from bokeh.palettes import Inferno256\n",
    "from bokeh.plotting import figure, output_file, save"
   ]
  },
  {
   "cell_type": "code",
   "execution_count": 2,
   "metadata": {},
   "outputs": [
    {
     "name": "stderr",
     "output_type": "stream",
     "text": [
      "INFO:Data collector:Loaded geo shape\n",
      "INFO:numexpr.utils:NumExpr defaulting to 8 threads.\n",
      "INFO:Data collector:Retrieved map info\n",
      "INFO:Data collector:Loaded daily COVID cases\n",
      "/home/wckdouglas/codes/covid/src/utils.py:61: UserWarning: No parser was explicitly specified, so I'm using the best available HTML parser for this system (\"lxml\"). This usually isn't a problem, but if you run this code on another system, or in a different virtual environment, it may use a different parser and behave differently.\n",
      "\n",
      "The code that caused this warning is on line 61 of the file /home/wckdouglas/codes/covid/src/utils.py. To get rid of this warning, pass the additional argument 'features=\"lxml\"' to the BeautifulSoup constructor.\n",
      "\n",
      "  soup = BeautifulSoup(http.content)\n",
      "INFO:Data collector:Retrieved populations\n"
     ]
    }
   ],
   "source": [
    "maryland = Data(state='MD')"
   ]
  },
  {
   "cell_type": "code",
   "execution_count": 3,
   "metadata": {},
   "outputs": [
    {
     "data": {
      "text/html": [
       "<div>\n",
       "<style scoped>\n",
       "    .dataframe tbody tr th:only-of-type {\n",
       "        vertical-align: middle;\n",
       "    }\n",
       "\n",
       "    .dataframe tbody tr th {\n",
       "        vertical-align: top;\n",
       "    }\n",
       "\n",
       "    .dataframe thead th {\n",
       "        text-align: right;\n",
       "    }\n",
       "</style>\n",
       "<table border=\"1\" class=\"dataframe\">\n",
       "  <thead>\n",
       "    <tr style=\"text-align: right;\">\n",
       "      <th></th>\n",
       "      <th>Zip</th>\n",
       "      <th>City</th>\n",
       "      <th>State</th>\n",
       "      <th>Cases</th>\n",
       "      <th>Date</th>\n",
       "      <th>geometry</th>\n",
       "      <th>Population</th>\n",
       "      <th>per_population</th>\n",
       "    </tr>\n",
       "  </thead>\n",
       "  <tbody>\n",
       "    <tr>\n",
       "      <th>2</th>\n",
       "      <td>20910</td>\n",
       "      <td>Silver Spring</td>\n",
       "      <td>MD</td>\n",
       "      <td>97.0</td>\n",
       "      <td>2020-04-14</td>\n",
       "      <td>POLYGON ((-77.06795 39.02395, -77.06792 39.023...</td>\n",
       "      <td>42868</td>\n",
       "      <td>2.262760</td>\n",
       "    </tr>\n",
       "    <tr>\n",
       "      <th>4</th>\n",
       "      <td>20912</td>\n",
       "      <td>Takoma Park</td>\n",
       "      <td>MD</td>\n",
       "      <td>46.0</td>\n",
       "      <td>2020-04-14</td>\n",
       "      <td>POLYGON ((-77.02669 38.98656, -77.02644 38.986...</td>\n",
       "      <td>26239</td>\n",
       "      <td>1.753116</td>\n",
       "    </tr>\n",
       "    <tr>\n",
       "      <th>8</th>\n",
       "      <td>21009</td>\n",
       "      <td>Abingdon</td>\n",
       "      <td>MD</td>\n",
       "      <td>14.0</td>\n",
       "      <td>2020-04-14</td>\n",
       "      <td>POLYGON ((-76.34463 39.48586, -76.34453 39.485...</td>\n",
       "      <td>29997</td>\n",
       "      <td>0.466713</td>\n",
       "    </tr>\n",
       "    <tr>\n",
       "      <th>11</th>\n",
       "      <td>21012</td>\n",
       "      <td>Arnold</td>\n",
       "      <td>MD</td>\n",
       "      <td>52.0</td>\n",
       "      <td>2020-04-14</td>\n",
       "      <td>POLYGON ((-76.54527 39.04052, -76.54289 39.042...</td>\n",
       "      <td>21772</td>\n",
       "      <td>2.388389</td>\n",
       "    </tr>\n",
       "    <tr>\n",
       "      <th>14</th>\n",
       "      <td>21014</td>\n",
       "      <td>Bel Air</td>\n",
       "      <td>MD</td>\n",
       "      <td>17.0</td>\n",
       "      <td>2020-04-14</td>\n",
       "      <td>POLYGON ((-76.39499 39.53694, -76.39495 39.537...</td>\n",
       "      <td>35681</td>\n",
       "      <td>0.476444</td>\n",
       "    </tr>\n",
       "  </tbody>\n",
       "</table>\n",
       "</div>"
      ],
      "text/plain": [
       "      Zip           City State  Cases       Date  \\\n",
       "2   20910  Silver Spring    MD   97.0 2020-04-14   \n",
       "4   20912    Takoma Park    MD   46.0 2020-04-14   \n",
       "8   21009       Abingdon    MD   14.0 2020-04-14   \n",
       "11  21012         Arnold    MD   52.0 2020-04-14   \n",
       "14  21014        Bel Air    MD   17.0 2020-04-14   \n",
       "\n",
       "                                             geometry Population  \\\n",
       "2   POLYGON ((-77.06795 39.02395, -77.06792 39.023...      42868   \n",
       "4   POLYGON ((-77.02669 38.98656, -77.02644 38.986...      26239   \n",
       "8   POLYGON ((-76.34463 39.48586, -76.34453 39.485...      29997   \n",
       "11  POLYGON ((-76.54527 39.04052, -76.54289 39.042...      21772   \n",
       "14  POLYGON ((-76.39499 39.53694, -76.39495 39.537...      35681   \n",
       "\n",
       "    per_population  \n",
       "2         2.262760  \n",
       "4         1.753116  \n",
       "8         0.466713  \n",
       "11        2.388389  \n",
       "14        0.476444  "
      ]
     },
     "execution_count": 3,
     "metadata": {},
     "output_type": "execute_result"
    }
   ],
   "source": [
    "data = maryland.geo \\\n",
    "    .merge(maryland.zip_map, on ='Zip', how = 'right') \\\n",
    "    .merge(maryland.zip_covid, on ='Zip', how ='left')\\\n",
    "    .merge(maryland.zip_population.assign(Zip = lambda d: d.Zip.astype(int)), on ='Zip')\\\n",
    "    .pipe(lambda d: d[d.Date==d.Date.max()])  \\\n",
    "    .filter(['Zip','City','State','Cases','Date','geometry', 'Population']) \\\n",
    "    .assign(Cases = lambda d: d.Cases.fillna(0)) \\\n",
    "    .pipe(lambda d: d[~pd.isnull(d.geometry)]) \\\n",
    "    .assign(per_population = lambda d: d.Cases / d.Population.astype(int) * 1000)\n",
    "data.head()"
   ]
  },
  {
   "cell_type": "code",
   "execution_count": 4,
   "metadata": {},
   "outputs": [
    {
     "name": "stderr",
     "output_type": "stream",
     "text": [
      "INFO:bokeh.io.state:Session output file 'output.html' already exists, will be overwritten.\n"
     ]
    },
    {
     "data": {
      "text/plain": [
       "'/home/wckdouglas/codes/covid/output.html'"
      ]
     },
     "execution_count": 4,
     "metadata": {},
     "output_type": "execute_result"
    }
   ],
   "source": [
    "geosource = GeoJSONDataSource(geojson = data.drop('Date', axis=1).to_json())\n",
    "color_mapper = LinearColorMapper(palette=Inferno256, \n",
    "                           low=data.per_population.min(), \n",
    "                           high=data.per_population.max())\n",
    "\n",
    "p = figure(title = 'COVID19 in Maryland (Cases per 1,000 people)', \n",
    "           plot_height = 600,\n",
    "           plot_width = 950, \n",
    "           toolbar_location = 'below',\n",
    "           tools = \"pan, wheel_zoom, box_zoom, reset\")\n",
    "p.xgrid.grid_line_color = None\n",
    "p.ygrid.grid_line_color = None\n",
    "p.axis.visible = False\n",
    "p.title.text_font_size = '15pt'\n",
    "\n",
    "# Add patch renderer to figure.\n",
    "states = p.patches('xs','ys', source = geosource,\n",
    "                   fill_color = {'field':'per_population',\n",
    "                                'transform':color_mapper},\n",
    "                   line_color = 'gray', \n",
    "                   line_width = 0.25, \n",
    "                   fill_alpha = 1)\n",
    "# Create hover tool\n",
    "p.add_tools(HoverTool(tooltips = [('City','@City'),\n",
    "                                  ('Zip code','@Zip'),\n",
    "                                  ('Population','@Population'),\n",
    "                                  ('Cases', '@Cases'),\n",
    "                                  ('Cases/1k population', '@per_population')]))\n",
    "\n",
    "#color bar\n",
    "color_bar = ColorBar(color_mapper = color_mapper, \n",
    "                     label_standoff = 8,\n",
    "                     width = 500, height = 20,\n",
    "                     border_line_color = None,\n",
    "                     location = (0,0), \n",
    "                    orientation='horizontal')\n",
    "p.add_layout(color_bar, 'below')\n",
    "output_file('output.html')\n",
    "save(p)\n"
   ]
  },
  {
   "cell_type": "code",
   "execution_count": 7,
   "metadata": {},
   "outputs": [
    {
     "name": "stderr",
     "output_type": "stream",
     "text": [
      "INFO:Data collector:Written 84 lines from 85 lines to COVID.html\n"
     ]
    }
   ],
   "source": [
    "markdown_html('output.html','COVID.html')"
   ]
  },
  {
   "cell_type": "code",
   "execution_count": null,
   "metadata": {},
   "outputs": [],
   "source": []
  }
 ],
 "metadata": {
  "kernelspec": {
   "display_name": "Python 3",
   "language": "python",
   "name": "python3"
  },
  "language_info": {
   "codemirror_mode": {
    "name": "ipython",
    "version": 3
   },
   "file_extension": ".py",
   "mimetype": "text/x-python",
   "name": "python",
   "nbconvert_exporter": "python",
   "pygments_lexer": "ipython3",
   "version": "3.6.10"
  }
 },
 "nbformat": 4,
 "nbformat_minor": 4
}
