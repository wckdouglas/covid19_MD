{
 "cells": [
  {
   "cell_type": "code",
   "execution_count": null,
   "metadata": {},
   "outputs": [],
   "source": [
    "%matplotlib inline\n",
    "%load_ext autoreload\n",
    "%autoreload 2\n",
    "\n",
    "import pandas as pd\n",
    "import glob\n",
    "from src.utils import Data, markdown_html\n",
    "import matplotlib.pyplot as plt\n",
    "from bokeh.io import show, save, output_file\n",
    "from bokeh.models import (CDSView, ColorBar, ColumnDataSource,\n",
    "                          GeoJSONDataSource, HoverTool,\n",
    "                          LinearColorMapper, Slider, BasicTicker)\n",
    "from bokeh.layouts import column, row, widgetbox\n",
    "from bokeh.palettes import brewer\n",
    "from bokeh.palettes import Inferno256\n",
    "from bokeh.plotting import figure"
   ]
  },
  {
   "cell_type": "code",
   "execution_count": null,
   "metadata": {},
   "outputs": [],
   "source": [
    "maryland = Data(state='MD')"
   ]
  },
  {
   "cell_type": "code",
   "execution_count": null,
   "metadata": {},
   "outputs": [],
   "source": [
    "data = maryland.geo \\\n",
    "    .merge(maryland.zip_map, on ='Zip', how = 'right') \\\n",
    "    .merge(maryland.zip_covid, on ='Zip', how ='left')\\\n",
    "    .merge(maryland.zip_population.assign(Zip = lambda d: d.Zip.astype(int)), on ='Zip')\\\n",
    "    .assign(Date = lambda d: d.Date.fillna(d.Date.max()))\\\n",
    "    .pipe(lambda d: d[d.Date==d.Date.max()])  \\\n",
    "    .filter(['Zip','City','State','Cases','Date','geometry', 'Population']) \\\n",
    "    .assign(Cases = lambda d: d.Cases.fillna(0)) \\\n",
    "    .pipe(lambda d: d[~pd.isnull(d.geometry)]) \\\n",
    "    .assign(per_population = lambda d: d.Cases / d.Population.astype(int) * 1000)\n",
    "data.head()"
   ]
  },
  {
   "cell_type": "code",
   "execution_count": null,
   "metadata": {},
   "outputs": [],
   "source": [
    "geosource = GeoJSONDataSource(geojson = data.drop('Date', axis=1).to_json())\n",
    "color_mapper = LinearColorMapper(palette=Inferno256, \n",
    "                           low=data.per_population.min(), \n",
    "                           high=data.per_population.max())\n",
    "\n",
    "p = figure(title = 'COVID19 in Maryland (Cases per 1,000 people)', \n",
    "           plot_height = 600,\n",
    "           plot_width = 950, \n",
    "           toolbar_location = 'below',\n",
    "           tools = \"pan, wheel_zoom, box_zoom, reset\")\n",
    "p.xgrid.grid_line_color = None\n",
    "p.ygrid.grid_line_color = None\n",
    "p.axis.visible = False\n",
    "p.title.text_font_size = '15pt'\n",
    "\n",
    "# Add patch renderer to figure.\n",
    "states = p.patches('xs','ys', source = geosource,\n",
    "                   fill_color = {'field':'per_population',\n",
    "                                'transform':color_mapper},\n",
    "                   line_color = 'gray', \n",
    "                   line_width = 0.25, \n",
    "                   fill_alpha = 1)\n",
    "# Create hover tool\n",
    "p.add_tools(HoverTool(tooltips = [('City','@City'),\n",
    "                                  ('Zip code','@Zip'),\n",
    "                                  ('Population','@Population'),\n",
    "                                  ('Cases', '@Cases'),\n",
    "                                  ('Cases/1k population', '@per_population')]))\n",
    "\n",
    "#color bar\n",
    "color_bar = ColorBar(color_mapper = color_mapper, \n",
    "                     label_standoff = 8,\n",
    "                     width = 500, height = 20,\n",
    "                     border_line_color = None,\n",
    "                     location = (0,0), \n",
    "                    orientation='horizontal')\n",
    "p.add_layout(color_bar, 'below')\n",
    "output_file('output.html')\n",
    "save(p)\n"
   ]
  },
  {
   "cell_type": "code",
   "execution_count": null,
   "metadata": {},
   "outputs": [],
   "source": [
    "markdown_html('output.html','COVID.html')"
   ]
  },
  {
   "cell_type": "code",
   "execution_count": null,
   "metadata": {},
   "outputs": [],
   "source": [
    "data = maryland.geo \\\n",
    "    .merge(maryland.zip_map, on ='Zip', how = 'right') \\\n",
    "    .merge(maryland.zip_covid, on ='Zip', how ='left')\\\n",
    "    .merge(maryland.zip_population.assign(Zip = lambda d: d.Zip.astype(int)), on ='Zip')\\\n",
    "    .assign(Date = lambda d: d.Date.fillna(d.Date.max()))\n",
    "data.head()"
   ]
  },
  {
   "cell_type": "code",
   "execution_count": null,
   "metadata": {},
   "outputs": [],
   "source": [
    "ts_data = maryland\\\n",
    "    .zip_covid\\\n",
    "    .pipe(pd.pivot_table, columns = 'Zip', \n",
    "          values='Cases', index='Date')\\\n",
    "    .fillna(method='ffill', axis=0) \\\n",
    "    .fillna(0)\n",
    "ts_data.head()"
   ]
  },
  {
   "cell_type": "code",
   "execution_count": null,
   "metadata": {},
   "outputs": [],
   "source": [
    "source = ColumnDataSource(maryland.zip_covid.query('Zip == 21215'))\n",
    "p = figure(x_axis_type=\"datetime\", tools='hover,save,pan,box_zoom,reset,wheel_zoom')\n",
    "p.line(x='Date', y='Cases', source=source)\n",
    "show(p)"
   ]
  },
  {
   "cell_type": "code",
   "execution_count": null,
   "metadata": {},
   "outputs": [],
   "source": []
  }
 ],
 "metadata": {
  "kernelspec": {
   "display_name": "Python 3",
   "language": "python",
   "name": "python3"
  },
  "language_info": {
   "codemirror_mode": {
    "name": "ipython",
    "version": 3
   },
   "file_extension": ".py",
   "mimetype": "text/x-python",
   "name": "python",
   "nbconvert_exporter": "python",
   "pygments_lexer": "ipython3",
   "version": "3.6.10"
  }
 },
 "nbformat": 4,
 "nbformat_minor": 4
}
