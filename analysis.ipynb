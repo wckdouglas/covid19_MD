{
 "cells": [
  {
   "cell_type": "code",
   "execution_count": 1,
   "metadata": {},
   "outputs": [
    {
     "data": {
      "text/plain": [
       "RendererRegistry.enable('html')"
      ]
     },
     "execution_count": 1,
     "metadata": {},
     "output_type": "execute_result"
    }
   ],
   "source": [
    "%matplotlib inline\n",
    "%load_ext autoreload\n",
    "%autoreload 2\n",
    "\n",
    "import pandas as pd\n",
    "import glob\n",
    "from src.utils import Data\n",
    "import matplotlib.pyplot as plt\n",
    "import altair as alt\n",
    "import gpdvega \n",
    "alt.renderers.enable('html')"
   ]
  },
  {
   "cell_type": "code",
   "execution_count": 23,
   "metadata": {},
   "outputs": [],
   "source": [
    "maryland = Data(state='MD')"
   ]
  },
  {
   "cell_type": "code",
   "execution_count": 136,
   "metadata": {},
   "outputs": [
    {
     "data": {
      "text/html": [
       "<div>\n",
       "<style scoped>\n",
       "    .dataframe tbody tr th:only-of-type {\n",
       "        vertical-align: middle;\n",
       "    }\n",
       "\n",
       "    .dataframe tbody tr th {\n",
       "        vertical-align: top;\n",
       "    }\n",
       "\n",
       "    .dataframe thead th {\n",
       "        text-align: right;\n",
       "    }\n",
       "</style>\n",
       "<table border=\"1\" class=\"dataframe\">\n",
       "  <thead>\n",
       "    <tr style=\"text-align: right;\">\n",
       "      <th></th>\n",
       "      <th>Zip</th>\n",
       "      <th>City</th>\n",
       "      <th>State</th>\n",
       "      <th>Cases</th>\n",
       "      <th>Date</th>\n",
       "      <th>geometry</th>\n",
       "    </tr>\n",
       "  </thead>\n",
       "  <tbody>\n",
       "    <tr>\n",
       "      <th>0</th>\n",
       "      <td>20910</td>\n",
       "      <td>Silver Spring</td>\n",
       "      <td>MD</td>\n",
       "      <td>84.0</td>\n",
       "      <td>2020-04-12</td>\n",
       "      <td>POLYGON ((-77.05727 38.99761, -77.05806 38.997...</td>\n",
       "    </tr>\n",
       "    <tr>\n",
       "      <th>2</th>\n",
       "      <td>20910</td>\n",
       "      <td>Silver Spring</td>\n",
       "      <td>MD</td>\n",
       "      <td>97.0</td>\n",
       "      <td>2020-04-14</td>\n",
       "      <td>POLYGON ((-77.05727 38.99761, -77.05806 38.997...</td>\n",
       "    </tr>\n",
       "    <tr>\n",
       "      <th>4</th>\n",
       "      <td>20912</td>\n",
       "      <td>Takoma Park</td>\n",
       "      <td>MD</td>\n",
       "      <td>46.0</td>\n",
       "      <td>2020-04-14</td>\n",
       "      <td>POLYGON ((-77.00595 38.99586, -77.00569 38.996...</td>\n",
       "    </tr>\n",
       "    <tr>\n",
       "      <th>5</th>\n",
       "      <td>21001</td>\n",
       "      <td>Aberdeen</td>\n",
       "      <td>MD</td>\n",
       "      <td>0.0</td>\n",
       "      <td>NaT</td>\n",
       "      <td>POLYGON ((-76.23666 39.51217, -76.24079 39.511...</td>\n",
       "    </tr>\n",
       "    <tr>\n",
       "      <th>6</th>\n",
       "      <td>21005</td>\n",
       "      <td>Aberdeen Proving Ground</td>\n",
       "      <td>MD</td>\n",
       "      <td>0.0</td>\n",
       "      <td>NaT</td>\n",
       "      <td>POLYGON ((-76.17075 39.49480, -76.17056 39.494...</td>\n",
       "    </tr>\n",
       "  </tbody>\n",
       "</table>\n",
       "</div>"
      ],
      "text/plain": [
       "     Zip                     City State  Cases       Date  \\\n",
       "0  20910            Silver Spring    MD   84.0 2020-04-12   \n",
       "2  20910            Silver Spring    MD   97.0 2020-04-14   \n",
       "4  20912              Takoma Park    MD   46.0 2020-04-14   \n",
       "5  21001                 Aberdeen    MD    0.0        NaT   \n",
       "6  21005  Aberdeen Proving Ground    MD    0.0        NaT   \n",
       "\n",
       "                                            geometry  \n",
       "0  POLYGON ((-77.05727 38.99761, -77.05806 38.997...  \n",
       "2  POLYGON ((-77.05727 38.99761, -77.05806 38.997...  \n",
       "4  POLYGON ((-77.00595 38.99586, -77.00569 38.996...  \n",
       "5  POLYGON ((-76.23666 39.51217, -76.24079 39.511...  \n",
       "6  POLYGON ((-76.17075 39.49480, -76.17056 39.494...  "
      ]
     },
     "execution_count": 136,
     "metadata": {},
     "output_type": "execute_result"
    }
   ],
   "source": [
    "data = maryland.geo \\\n",
    "    .merge(maryland.zip_map, on ='Zip', how = 'right') \\\n",
    "    .merge(maryland.zip_covid, on ='Zip', how ='left')\\\n",
    "    .query('Date != \"2020-04-13\"')  \\\n",
    "    .filter(['Zip','City','State','Cases','Date','geometry']) \\\n",
    "    .assign(Cases = lambda d: d.Cases.fillna(0)) \\\n",
    "    .pipe(lambda d: d[~pd.isnull(d.geometry)])\n",
    "data.head()"
   ]
  },
  {
   "cell_type": "code",
   "execution_count": 151,
   "metadata": {},
   "outputs": [],
   "source": [
    "p = alt.Chart(data)\\\n",
    "    .mark_geoshape()\\\n",
    "    .project()\\\n",
    "    .encode(color='Cases:Q',\n",
    "           tooltip = ['Zip','City','Cases'])\\\n",
    "    .properties(\n",
    "        width=1500,\n",
    "        height=1300)"
   ]
  },
  {
   "cell_type": "code",
   "execution_count": 152,
   "metadata": {},
   "outputs": [],
   "source": [
    "p.save('output.html')"
   ]
  },
  {
   "cell_type": "code",
   "execution_count": null,
   "metadata": {},
   "outputs": [],
   "source": []
  }
 ],
 "metadata": {
  "kernelspec": {
   "display_name": "Python 3",
   "language": "python",
   "name": "python3"
  },
  "language_info": {
   "codemirror_mode": {
    "name": "ipython",
    "version": 3
   },
   "file_extension": ".py",
   "mimetype": "text/x-python",
   "name": "python",
   "nbconvert_exporter": "python",
   "pygments_lexer": "ipython3",
   "version": "3.6.10"
  }
 },
 "nbformat": 4,
 "nbformat_minor": 4
}
