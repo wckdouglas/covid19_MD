{
 "cells": [
  {
   "cell_type": "code",
   "execution_count": 77,
   "metadata": {},
   "outputs": [
    {
     "name": "stdout",
     "output_type": "stream",
     "text": [
      "The autoreload extension is already loaded. To reload it, use:\n",
      "  %reload_ext autoreload\n"
     ]
    },
    {
     "data": {
      "text/plain": [
       "RendererRegistry.enable('html')"
      ]
     },
     "execution_count": 77,
     "metadata": {},
     "output_type": "execute_result"
    }
   ],
   "source": [
    "%matplotlib inline\n",
    "%load_ext autoreload\n",
    "%autoreload 2\n",
    "\n",
    "import pandas as pd\n",
    "import glob\n",
    "from src.utils import Data\n",
    "import matplotlib.pyplot as plt\n",
    "from bokeh.io import show\n",
    "from bokeh.models import (CDSView, ColorBar, ColumnDataSource,\n",
    "                          GeoJSONDataSource, HoverTool,\n",
    "                          LinearColorMapper, Slider, BasicTicker)\n",
    "from bokeh.layouts import column, row, widgetbox\n",
    "from bokeh.palettes import brewer\n",
    "from bokeh.palettes import Inferno256\n",
    "from bokeh.plotting import figure\n",
    "alt.renderers.enable('html')"
   ]
  },
  {
   "cell_type": "code",
   "execution_count": 78,
   "metadata": {},
   "outputs": [
    {
     "name": "stderr",
     "output_type": "stream",
     "text": [
      "/Users/wckdouglas/codes/covid/src/utils.py:49: UserWarning: No parser was explicitly specified, so I'm using the best available HTML parser for this system (\"lxml\"). This usually isn't a problem, but if you run this code on another system, or in a different virtual environment, it may use a different parser and behave differently.\n",
      "\n",
      "The code that caused this warning is on line 49 of the file /Users/wckdouglas/codes/covid/src/utils.py. To get rid of this warning, pass the additional argument 'features=\"lxml\"' to the BeautifulSoup constructor.\n",
      "\n",
      "  soup = BeautifulSoup(http.content)\n"
     ]
    }
   ],
   "source": [
    "maryland = Data(state='MD')"
   ]
  },
  {
   "cell_type": "code",
   "execution_count": 79,
   "metadata": {},
   "outputs": [
    {
     "data": {
      "text/html": [
       "<div>\n",
       "<style scoped>\n",
       "    .dataframe tbody tr th:only-of-type {\n",
       "        vertical-align: middle;\n",
       "    }\n",
       "\n",
       "    .dataframe tbody tr th {\n",
       "        vertical-align: top;\n",
       "    }\n",
       "\n",
       "    .dataframe thead th {\n",
       "        text-align: right;\n",
       "    }\n",
       "</style>\n",
       "<table border=\"1\" class=\"dataframe\">\n",
       "  <thead>\n",
       "    <tr style=\"text-align: right;\">\n",
       "      <th></th>\n",
       "      <th>Zip</th>\n",
       "      <th>City</th>\n",
       "      <th>State</th>\n",
       "      <th>Cases</th>\n",
       "      <th>Date</th>\n",
       "      <th>geometry</th>\n",
       "      <th>Population</th>\n",
       "      <th>per_population</th>\n",
       "    </tr>\n",
       "  </thead>\n",
       "  <tbody>\n",
       "    <tr>\n",
       "      <td>1</td>\n",
       "      <td>20910</td>\n",
       "      <td>Silver Spring</td>\n",
       "      <td>MD</td>\n",
       "      <td>84.0</td>\n",
       "      <td>2020-04-12</td>\n",
       "      <td>POLYGON ((-77.06795 39.02395, -77.06792 39.023...</td>\n",
       "      <td>42868</td>\n",
       "      <td>1.959504</td>\n",
       "    </tr>\n",
       "    <tr>\n",
       "      <td>2</td>\n",
       "      <td>20910</td>\n",
       "      <td>Silver Spring</td>\n",
       "      <td>MD</td>\n",
       "      <td>97.0</td>\n",
       "      <td>2020-04-14</td>\n",
       "      <td>POLYGON ((-77.06795 39.02395, -77.06792 39.023...</td>\n",
       "      <td>42868</td>\n",
       "      <td>2.262760</td>\n",
       "    </tr>\n",
       "    <tr>\n",
       "      <td>4</td>\n",
       "      <td>20912</td>\n",
       "      <td>Takoma Park</td>\n",
       "      <td>MD</td>\n",
       "      <td>46.0</td>\n",
       "      <td>2020-04-14</td>\n",
       "      <td>POLYGON ((-77.02669 38.98656, -77.02644 38.986...</td>\n",
       "      <td>26239</td>\n",
       "      <td>1.753116</td>\n",
       "    </tr>\n",
       "    <tr>\n",
       "      <td>5</td>\n",
       "      <td>21001</td>\n",
       "      <td>Aberdeen</td>\n",
       "      <td>MD</td>\n",
       "      <td>0.0</td>\n",
       "      <td>NaT</td>\n",
       "      <td>POLYGON ((-76.26030 39.52271, -76.26023 39.522...</td>\n",
       "      <td>24453</td>\n",
       "      <td>0.000000</td>\n",
       "    </tr>\n",
       "    <tr>\n",
       "      <td>6</td>\n",
       "      <td>21005</td>\n",
       "      <td>Aberdeen Proving Ground</td>\n",
       "      <td>MD</td>\n",
       "      <td>0.0</td>\n",
       "      <td>NaT</td>\n",
       "      <td>POLYGON ((-76.17461 39.49090, -76.17075 39.494...</td>\n",
       "      <td>2723</td>\n",
       "      <td>0.000000</td>\n",
       "    </tr>\n",
       "  </tbody>\n",
       "</table>\n",
       "</div>"
      ],
      "text/plain": [
       "     Zip                     City State  Cases       Date  \\\n",
       "1  20910            Silver Spring    MD   84.0 2020-04-12   \n",
       "2  20910            Silver Spring    MD   97.0 2020-04-14   \n",
       "4  20912              Takoma Park    MD   46.0 2020-04-14   \n",
       "5  21001                 Aberdeen    MD    0.0        NaT   \n",
       "6  21005  Aberdeen Proving Ground    MD    0.0        NaT   \n",
       "\n",
       "                                            geometry Population  \\\n",
       "1  POLYGON ((-77.06795 39.02395, -77.06792 39.023...      42868   \n",
       "2  POLYGON ((-77.06795 39.02395, -77.06792 39.023...      42868   \n",
       "4  POLYGON ((-77.02669 38.98656, -77.02644 38.986...      26239   \n",
       "5  POLYGON ((-76.26030 39.52271, -76.26023 39.522...      24453   \n",
       "6  POLYGON ((-76.17461 39.49090, -76.17075 39.494...       2723   \n",
       "\n",
       "   per_population  \n",
       "1        1.959504  \n",
       "2        2.262760  \n",
       "4        1.753116  \n",
       "5        0.000000  \n",
       "6        0.000000  "
      ]
     },
     "execution_count": 79,
     "metadata": {},
     "output_type": "execute_result"
    }
   ],
   "source": [
    "data = maryland.geo \\\n",
    "    .merge(maryland.zip_map, on ='Zip', how = 'right') \\\n",
    "    .merge(maryland.zip_covid, on ='Zip', how ='left')\\\n",
    "    .merge(maryland.zip_population.assign(Zip = lambda d: d.Zip.astype(int)), on ='Zip')\\\n",
    "    .query('Date != \"2020-04-13\"')  \\\n",
    "    .filter(['Zip','City','State','Cases','Date','geometry', 'Population']) \\\n",
    "    .assign(Cases = lambda d: d.Cases.fillna(0)) \\\n",
    "    .pipe(lambda d: d[~pd.isnull(d.geometry)]) \\\n",
    "    .assign(per_population = lambda d: d.Cases / d.Population.astype(int) * 1000)\n",
    "data.head()"
   ]
  },
  {
   "cell_type": "code",
   "execution_count": 80,
   "metadata": {},
   "outputs": [],
   "source": [
    "geosource = GeoJSONDataSource(geojson = data.drop('Date', axis=1).to_json())\n",
    "color_mapper = LinearColorMapper(palette=Inferno256, \n",
    "                           low=data.per_population.min(), \n",
    "                           high=data.per_population.max())\n",
    "\n",
    "p = figure(title = 'COVID19 in Maryland (Cases per 1,000 people)', \n",
    "           plot_height = 600,\n",
    "           plot_width = 950, \n",
    "           toolbar_location = 'below',\n",
    "           tools = \"pan, wheel_zoom, box_zoom, reset\")\n",
    "p.xgrid.grid_line_color = None\n",
    "p.ygrid.grid_line_color = None\n",
    "p.axis.visible = False\n",
    "p.title.text_font_size = '15pt'\n",
    "\n",
    "# Add patch renderer to figure.\n",
    "states = p.patches('xs','ys', source = geosource,\n",
    "                   fill_color = {'field':'per_population',\n",
    "                                'transform':color_mapper},\n",
    "                   line_color = 'gray', \n",
    "                   line_width = 0.25, \n",
    "                   fill_alpha = 1)\n",
    "# Create hover tool\n",
    "p.add_tools(HoverTool(tooltips = [('City','@City'),\n",
    "                                  ('Zip code','@Zip'),\n",
    "                                  ('Population','@Population'),\n",
    "                                  ('Cases', '@Cases'),\n",
    "                                  ('Cases/1k population', '@per_population')]))\n",
    "\n",
    "#color bar\n",
    "color_bar = ColorBar(color_mapper = color_mapper, \n",
    "                     label_standoff = 8,\n",
    "                     width = 500, height = 20,\n",
    "                     border_line_color = None,\n",
    "                     location = (0,0), \n",
    "                    orientation='horizontal')\n",
    "p.add_layout(color_bar, 'below')\n",
    "show(p)"
   ]
  },
  {
   "cell_type": "code",
   "execution_count": null,
   "metadata": {},
   "outputs": [],
   "source": []
  }
 ],
 "metadata": {
  "kernelspec": {
   "display_name": "Python 3",
   "language": "python",
   "name": "python3"
  },
  "language_info": {
   "codemirror_mode": {
    "name": "ipython",
    "version": 3
   },
   "file_extension": ".py",
   "mimetype": "text/x-python",
   "name": "python",
   "nbconvert_exporter": "python",
   "pygments_lexer": "ipython3",
   "version": "3.6.10"
  }
 },
 "nbformat": 4,
 "nbformat_minor": 4
}
